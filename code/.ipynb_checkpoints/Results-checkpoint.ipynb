{
 "cells": [
  {
   "cell_type": "markdown",
   "metadata": {},
   "source": [
    "## Summary Ensemble Classifiers Tested\n",
    "I ran a Random Forest Classifier to see how well it would predict whether a user would be a future user (e.g. future redemptions > 0) or not (future redemptions = 0) based on their first weeks activity. I went the decision tree route because the EDA did not indicate to me that the features as we have them would be easily linearly seperable. Features used for prediction are discussed in the EDA notes."
   ]
  },
  {
   "cell_type": "markdown",
   "metadata": {},
   "source": [
    "### Running the models"
   ]
  },
  {
   "cell_type": "markdown",
   "metadata": {},
   "source": [
    "#### Import modules"
   ]
  },
  {
   "cell_type": "code",
   "execution_count": 65,
   "metadata": {
    "collapsed": false
   },
   "outputs": [],
   "source": [
    "%matplotlib inline\n",
    "import cPickle as pickle\n",
    "import numpy as np\n",
    "import matplotlib.pyplot as plt\n",
    "import seaborn as sns\n",
    "from sklearn.cross_validation import train_test_split\n",
    "from sklearn import metrics\n",
    "import dataprep"
   ]
  },
  {
   "cell_type": "markdown",
   "metadata": {},
   "source": [
    "#### Get data in format from data cleaning/eda, and split into training and test sets"
   ]
  },
  {
   "cell_type": "code",
   "execution_count": 6,
   "metadata": {
    "collapsed": false
   },
   "outputs": [],
   "source": [
    "# get clean data\n",
    "model_df = dataprep.main(r'../data/Ibotta_Marketing_Sr_Analyst_Dataset.csv')\n",
    "# make future user class labels\n",
    "model_df['future_user'] = model_df['future_redemptions'].apply(lambda x: 1 if x > 0 else 0)\n",
    "# drop the future_redemptions column (avoid leakage)\n",
    "model_df.drop('future_redemptions', axis=1, inplace=True)\n",
    "\n",
    "# pop out the class labels as a numpy array\n",
    "y = model_df.pop('future_user').values\n",
    "# convert features to numpy array\n",
    "x = model_df.values\n",
    "# make a 70/30 train test split\n",
    "x_train, x_test, y_train, y_test = train_test_split(x,y,train_size=.70)"
   ]
  },
  {
   "cell_type": "markdown",
   "metadata": {},
   "source": [
    "## Random Forest Results"
   ]
  },
  {
   "cell_type": "markdown",
   "metadata": {},
   "source": [
    "#### Model saved as a pickle file so that training/cross-validation/grid seach doesn't have to be done again"
   ]
  },
  {
   "cell_type": "code",
   "execution_count": 7,
   "metadata": {
    "collapsed": false
   },
   "outputs": [],
   "source": [
    "import cPickle as pickle\n",
    "with open(\"../models/rf.p\") as f:\n",
    "    rf_model = pickle.load(f)"
   ]
  },
  {
   "cell_type": "markdown",
   "metadata": {},
   "source": [
    "#### Pass the test features and return an array of class predictions"
   ]
  },
  {
   "cell_type": "code",
   "execution_count": 11,
   "metadata": {
    "collapsed": false
   },
   "outputs": [
    {
     "name": "stderr",
     "output_type": "stream",
     "text": [
      "[Parallel(n_jobs=2)]: Done  46 tasks      | elapsed:    0.1s\n",
      "[Parallel(n_jobs=2)]: Done 196 tasks      | elapsed:    0.3s\n",
      "[Parallel(n_jobs=2)]: Done 446 tasks      | elapsed:    0.7s\n",
      "[Parallel(n_jobs=2)]: Done 500 out of 500 | elapsed:    0.7s finished\n"
     ]
    }
   ],
   "source": [
    "# get predicted class labels for test features\n",
    "y_pred = rf_model.predict(x_test)"
   ]
  },
  {
   "cell_type": "markdown",
   "metadata": {},
   "source": [
    "#### How accurate is your model?\n",
    "~ 86.9%, there is defintely a lot of room for improvement"
   ]
  },
  {
   "cell_type": "code",
   "execution_count": 13,
   "metadata": {
    "collapsed": false
   },
   "outputs": [
    {
     "name": "stdout",
     "output_type": "stream",
     "text": [
      "Accuracy:  0.868824531516\n"
     ]
    }
   ],
   "source": [
    "# scores\n",
    "print \"Accuracy: \", metrics.accuracy_score(y_test, y_pred)"
   ]
  },
  {
   "cell_type": "markdown",
   "metadata": {},
   "source": [
    "#### Other important classification metrics\n",
    "The recall (sensitivity) and precision weren't great, the method stuggles to identify future users (1) and overclassify the non-future users (0). This is common when the classes are imbalanced as they are in this dataset"
   ]
  },
  {
   "cell_type": "code",
   "execution_count": 16,
   "metadata": {
    "collapsed": false
   },
   "outputs": [
    {
     "name": "stdout",
     "output_type": "stream",
     "text": [
      "Recall:  0.45732130465\n",
      "Precision:  0.690052356021\n"
     ]
    }
   ],
   "source": [
    "print \"Recall: \", metrics.recall_score(y_test, y_pred)\n",
    "print \"Precision: \", metrics.precision_score(y_test, y_pred)"
   ]
  },
  {
   "cell_type": "markdown",
   "metadata": {},
   "source": [
    "#### The confusion matrix shows the misclassifications"
   ]
  },
  {
   "cell_type": "code",
   "execution_count": 17,
   "metadata": {
    "collapsed": false
   },
   "outputs": [
    {
     "name": "stdout",
     "output_type": "stream",
     "text": [
      "[[6481  296]\n",
      " [ 782  659]]\n"
     ]
    }
   ],
   "source": [
    "confmat = metrics.confusion_matrix(y_true=y_test, y_pred=y_pred)\n",
    "print confmat"
   ]
  },
  {
   "cell_type": "code",
   "execution_count": 78,
   "metadata": {
    "collapsed": false
   },
   "outputs": [
    {
     "data": {
      "text/plain": [
       "<matplotlib.text.Text at 0x7fbbdc5fcd10>"
      ]
     },
     "execution_count": 78,
     "metadata": {},
     "output_type": "execute_result"
    },
    {
     "data": {
      "image/png": "[encoded data removed]",
      "text/plain": [
       "<matplotlib.figure.Figure at 0x7fbbdc7a2790>"
      ]
     },
     "metadata": {},
     "output_type": "display_data"
    }
   ],
   "source": [
    "fig, ax = plt.subplots(figsize=(5, 5))\n",
    "ax.matshow(confmat, cmap='Blues', alpha=.5)\n",
    "for i in range(confmat.shape[0]):\n",
    "    for j in range(confmat.shape[1]):\n",
    "        ax.text(x=j, y=i, s=confmat[i,j], va='center', ha='center', fontsize=20)\n",
    "plt.xlabel('Predicted Value')\n",
    "plt.ylabel('True Value')"
   ]
  },
  {
   "cell_type": "markdown",
   "metadata": {},
   "source": [
    "### Key Indicators of Future Purchasing Behavior\n",
    "\n",
    "Feature Importance can be interpreted as the average impurity decrease across the decision trees in a random forest classifier. In this context, what was the were the most important features for the decision tree to split on, and useful (as in our case we saw in the EDA) when the data is not entirely linearly seperable"
   ]
  },
  {
   "cell_type": "code",
   "execution_count": 49,
   "metadata": {
    "collapsed": false
   },
   "outputs": [
    {
     "name": "stdout",
     "output_type": "stream",
     "text": [
      "Top 5 features: ['verify', 'gap', 'funded', 'time_spent', 'streak_activity']\n"
     ]
    }
   ],
   "source": [
    "# get the feature importances\n",
    "feature_importances = np.argsort(rf_model.feature_importances_)\n",
    "features = model_df.columns[feature_importances][::-1]\n",
    "print \"Top 5 features:\", list(model_df.columns[feature_importances[-1:-6:-1]])\n",
    "\n",
    "#calculate the standard deviation for feature importances across all trees\n",
    "n = 10 # top 10 features\n",
    "\n",
    "importances = rf_model.feature_importances_[:n]\n",
    "std = np.std([tree.feature_importances_ for tree in rf_model.estimators_], axis=0)\n",
    "indices = np.argsort(importances)[::-1]"
   ]
  },
  {
   "cell_type": "code",
   "execution_count": 77,
   "metadata": {
    "collapsed": false
   },
   "outputs": [
    {
     "name": "stdout",
     "output_type": "stream",
     "text": [
      "Feature ranking:\n",
      "1. verify (0.572536)\n",
      "2. gap (0.251130)\n",
      "3. funded (0.116503)\n",
      "4. time_spent (0.015883)\n",
      "5. streak_activity (0.013749)\n",
      "6. engage (0.012257)\n",
      "7. first_activity (0.008691)\n",
      "8. session (0.004196)\n",
      "9. start_dow (0.003408)\n",
      "10. selffunded (0.001647)\n"
     ]
    },
    {
     "data": {
      "image/png": "[encoded data removed]",
      "text/plain": [
       "<matplotlib.figure.Figure at 0x7fbbdc9668d0>"
      ]
     },
     "metadata": {},
     "output_type": "display_data"
    }
   ],
   "source": [
    "# Print the feature ranking\n",
    "print(\"Feature ranking:\")\n",
    "\n",
    "for f in range(n):\n",
    "    print(\"%d. %s (%f)\" % (f + 1, features[f], importances[indices[f]]))\n",
    "\n",
    "# Plot the feature importances of the forest\n",
    "plt.figure(figsize=(20,10))\n",
    "plt.title(\"Feature importances\", fontsize=30)\n",
    "plt.bar(range(10), importances[indices], yerr=std[indices], color=\"lightblue\", align=\"center\")\n",
    "plt.xticks(range(10), features, rotation=90, fontsize=20)\n",
    "plt.xlim([-1, 10])\n",
    "plt.tight_layout()"
   ]
  },
  {
   "cell_type": "markdown",
   "metadata": {},
   "source": [
    "## How to Use this Data in the Future\n",
    "Here we can see that the number of verified days, number of gap days, number of funded (although this variable may just be a stand-in weighting verifications further) were the most important. With the number of verified and the number of gap days being very highly important. \n",
    "\n",
    "It seems that the inital user interaction during the first two weeks is a very strong indicator of whether they will use it in the future. For future marketing campaigns I would target users that have a large number of gap days to engage them, and make sure that we \"churn\" users that have engaged with the app to complete a verified purchase early on."
   ]
  },
  {
   "cell_type": "markdown",
   "metadata": {},
   "source": [
    "## Moving Forward: Model Improvements\n",
    "This model has a lot of room to improve on it's current 87% accuracy rate. For a binary classification problem, that isn't stellar, but it shows promise as a way to predict active user retention based on the first few weeks of data.\n",
    "\n",
    "How I would go about improving it:\n",
    "1. **Better Predictive Variables**: \n",
    "    There is more feature engineering that could be done on the existing data. For example, have a streak of gap days in addtion to the streak of active days. I also would like to move funded/self-funded to a single variable from 0-1 indicating the percentage of each verification or unlock and their funding type. Time spent could be padded with an estimate of the number of seconds for each active day other than session, so it is more in line with a total time spent in the app.\n",
    "    Ideally during the data collection phase, we would include the number of seconds spent in the app for all activity. I would also like to see the total number of verifications and unlocks (engagements) per day, not just that one occured. I think both of these would prove to be very important features for predicting future redemptions, no matter which models we use.\n",
    "    \n",
    "2. **Other Models to Test**:\n",
    "    I think that a tree-based method is pretty useful for this, but I have a pretty good feeling that a Gradient Boosting approach will beat out this Random Forest model, since it focuses more on fitting the points that are prone to error (based on the residuals), and this dataset does not have well-defined gaps between the future users and non-users. Unfortunately for me that model has been taking hours to train/cross-validate (my computer is not great), so I proceeded with the random forest. I would also like to see how a Logistic Regression or even a Neural Net would perform. I also think if we were to get the two new data features mentioned in #1, a regression attempt would be more feasible to try and predict an actual number of future redemptions.\n",
    "\n",
    "3. **Hyperparameter Tuning**: I would spend more time tuning the hyperparameters (testing more parameters via grid search than I have) to make sure whatever modeling method we use will have the optimal performance statistics for our data."
   ]
  }
 ],
 "metadata": {
  "kernelspec": {
   "display_name": "Python [Root]",
   "language": "python",
   "name": "Python [Root]"
  },
  "language_info": {
   "codemirror_mode": {
    "name": "ipython",
    "version": 2
   },
   "file_extension": ".py",
   "mimetype": "text/x-python",
   "name": "python",
   "nbconvert_exporter": "python",
   "pygments_lexer": "ipython2",
   "version": "2.7.12"
  }
 },
 "nbformat": 4,
 "nbformat_minor": 0
}
