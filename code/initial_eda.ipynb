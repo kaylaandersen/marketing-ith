{
 "cells": [
  {
   "cell_type": "markdown",
   "metadata": {},
   "source": [
    "# Initial Exploration of the User Data"
   ]
  },
  {
   "cell_type": "markdown",
   "metadata": {},
   "source": [
    "## Import modules"
   ]
  },
  {
   "cell_type": "code",
   "execution_count": 2,
   "metadata": {
    "collapsed": false
   },
   "outputs": [],
   "source": [
    "%matplotlib inline\n",
    "import matplotlib.pyplot as plt\n",
    "import pandas as pd\n",
    "import seaborn as sns"
   ]
  },
  {
   "cell_type": "markdown",
   "metadata": {},
   "source": [
    "## Read the csv into a dataframe"
   ]
  },
  {
   "cell_type": "code",
   "execution_count": 3,
   "metadata": {
    "collapsed": false
   },
   "outputs": [],
   "source": [
    "data_source = r'../data/Ibotta_Marketing_Sr_Analyst_Dataset.csv'\n",
    "df = pd.read_csv(data_source)"
   ]
  },
  {
   "cell_type": "code",
   "execution_count": 4,
   "metadata": {
    "collapsed": false
   },
   "outputs": [
    {
     "name": "stdout",
     "output_type": "stream",
     "text": [
      "   customer_id  start_day              day1        day2        day3 day4 day5  \\\n",
      "0     11085496  wednesday  verifyselffunded         gap  session100  gap  gap   \n",
      "1     11086588  wednesday        session200    session0         gap  gap  gap   \n",
      "2     11091984  wednesday        session200         gap         gap  gap  gap   \n",
      "3     11094481  wednesday        session500  session100         gap  gap  gap   \n",
      "4     11095384  wednesday        session100         gap         gap  gap  gap   \n",
      "\n",
      "  day6        day7        day8 day9     day10 day11 day12 day13 day14  \\\n",
      "0  gap         gap         gap  gap       gap   gap   gap   gap   gap   \n",
      "1  gap    session0  session100  gap       gap   gap   gap   gap   gap   \n",
      "2  gap  session100    session0  gap  session0   gap   gap   gap   gap   \n",
      "3  gap         gap         gap  gap       gap   gap   gap   gap   gap   \n",
      "4  gap         gap         gap  gap       gap   gap   gap   gap   gap   \n",
      "\n",
      "   future_redemptions  \n",
      "0                   0  \n",
      "1                   0  \n",
      "2                   0  \n",
      "3                   0  \n",
      "4                   0  \n"
     ]
    }
   ],
   "source": [
    "print df.head()"
   ]
  },
  {
   "cell_type": "code",
   "execution_count": 5,
   "metadata": {
    "collapsed": false
   },
   "outputs": [
    {
     "data": {
      "text/plain": [
       "array([[<matplotlib.axes._subplots.AxesSubplot object at 0x7f20a68310d0>]], dtype=object)"
      ]
     },
     "execution_count": 5,
     "metadata": {},
     "output_type": "execute_result"
    },
    {
     "data": {
      "image/png": "[encoded data removed]",
      "text/plain": [
       "<matplotlib.figure.Figure at 0x7f20ae5e7950>"
      ]
     },
     "metadata": {},
     "output_type": "display_data"
    }
   ],
   "source": [
    "df.hist(column='future_redemptions', bins=15)"
   ]
  },
  {
   "cell_type": "code",
   "execution_count": 6,
   "metadata": {
    "collapsed": false
   },
   "outputs": [
    {
     "data": {
      "text/plain": [
       "array([[<matplotlib.axes._subplots.AxesSubplot object at 0x7f20a40e5610>]], dtype=object)"
      ]
     },
     "execution_count": 6,
     "metadata": {},
     "output_type": "execute_result"
    },
    {
     "data": {
      "image/png": "[encoded data removed]",
      "text/plain": [
       "<matplotlib.figure.Figure at 0x7f20ae5e77d0>"
      ]
     },
     "metadata": {},
     "output_type": "display_data"
    }
   ],
   "source": [
    "df[df['future_redemptions'] < 20].hist(column='future_redemptions', bins=30)"
   ]
  },
  {
   "cell_type": "code",
   "execution_count": 7,
   "metadata": {
    "collapsed": false
   },
   "outputs": [
    {
     "data": {
      "text/html": [
       "<div>\n",
       "<table border=\"1\" class=\"dataframe\">\n",
       "  <thead>\n",
       "    <tr style=\"text-align: right;\">\n",
       "      <th></th>\n",
       "      <th>customer_id</th>\n",
       "      <th>start_day</th>\n",
       "      <th>day1</th>\n",
       "      <th>day2</th>\n",
       "      <th>day3</th>\n",
       "      <th>day4</th>\n",
       "      <th>day5</th>\n",
       "      <th>day6</th>\n",
       "      <th>day7</th>\n",
       "      <th>day8</th>\n",
       "      <th>day9</th>\n",
       "      <th>day10</th>\n",
       "      <th>day11</th>\n",
       "      <th>day12</th>\n",
       "      <th>day13</th>\n",
       "      <th>day14</th>\n",
       "      <th>future_redemptions</th>\n",
       "    </tr>\n",
       "  </thead>\n",
       "  <tbody>\n",
       "    <tr>\n",
       "      <th>18888</th>\n",
       "      <td>11137780</td>\n",
       "      <td>sunday</td>\n",
       "      <td>gap</td>\n",
       "      <td>engagefunded</td>\n",
       "      <td>session200</td>\n",
       "      <td>gap</td>\n",
       "      <td>session0</td>\n",
       "      <td>gap</td>\n",
       "      <td>gap</td>\n",
       "      <td>gap</td>\n",
       "      <td>gap</td>\n",
       "      <td>engagefunded</td>\n",
       "      <td>verifyfunded</td>\n",
       "      <td>verifyfunded</td>\n",
       "      <td>verifyfunded</td>\n",
       "      <td>gap</td>\n",
       "      <td>93</td>\n",
       "    </tr>\n",
       "  </tbody>\n",
       "</table>\n",
       "</div>"
      ],
      "text/plain": [
       "       customer_id start_day day1          day2        day3 day4      day5  \\\n",
       "18888     11137780    sunday  gap  engagefunded  session200  gap  session0   \n",
       "\n",
       "      day6 day7 day8 day9         day10         day11         day12  \\\n",
       "18888  gap  gap  gap  gap  engagefunded  verifyfunded  verifyfunded   \n",
       "\n",
       "              day13 day14  future_redemptions  \n",
       "18888  verifyfunded   gap                  93  "
      ]
     },
     "execution_count": 7,
     "metadata": {},
     "output_type": "execute_result"
    }
   ],
   "source": [
    "df[df['future_redemptions'] > 90]"
   ]
  },
  {
   "cell_type": "code",
   "execution_count": null,
   "metadata": {
    "collapsed": true
   },
   "outputs": [],
   "source": [
    "pd.hist"
   ]
  }
 ],
 "metadata": {
  "anaconda-cloud": {},
  "kernelspec": {
   "display_name": "Python [Root]",
   "language": "python",
   "name": "Python [Root]"
  },
  "language_info": {
   "codemirror_mode": {
    "name": "ipython",
    "version": 2
   },
   "file_extension": ".py",
   "mimetype": "text/x-python",
   "name": "python",
   "nbconvert_exporter": "python",
   "pygments_lexer": "ipython2",
   "version": "2.7.12"
  }
 },
 "nbformat": 4,
 "nbformat_minor": 1
}
