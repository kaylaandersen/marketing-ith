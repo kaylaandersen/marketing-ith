{
 "cells": [
  {
   "cell_type": "markdown",
   "metadata": {},
   "source": [
    "# Initial Exploration of the User Data"
   ]
  },
  {
   "cell_type": "markdown",
   "metadata": {},
   "source": [
    "## Import modules"
   ]
  },
  {
   "cell_type": "code",
   "execution_count": 2,
   "metadata": {
    "collapsed": false
   },
   "outputs": [],
   "source": [
    "%matplotlib inline\n",
    "import matplotlib.pyplot as plt\n",
    "import pandas as pd\n",
    "import seaborn as sns\n",
    "import "
   ]
  },
  {
   "cell_type": "markdown",
   "metadata": {},
   "source": [
    "## Read the csv into a dataframe"
   ]
  },
  {
   "cell_type": "code",
   "execution_count": 8,
   "metadata": {
    "collapsed": false
   },
   "outputs": [],
   "source": [
    "run model ../data/Ibotta_Marketing_Sr_Analyst_Dataset.csv"
   ]
  },
  {
   "cell_type": "code",
   "execution_count": 9,
   "metadata": {
    "collapsed": false
   },
   "outputs": [
    {
     "name": "stdout",
     "output_type": "stream",
     "text": [
      "             start_dow  engage   gap  session  verify  time_spent  funded  \\\n",
      "customer_id                                                                 \n",
      "11085496             2     0.0  12.0      1.0     1.0       100.0     0.0   \n",
      "11086588             2     0.0  10.0      4.0     0.0       300.0     0.0   \n",
      "11091984             2     0.0  10.0      4.0     0.0       300.0     0.0   \n",
      "11094481             2     0.0  12.0      2.0     0.0       600.0     0.0   \n",
      "11095384             2     0.0  13.0      1.0     0.0       100.0     0.0   \n",
      "\n",
      "             selffunded  first_activity  streak_activity  future_redemptions  \n",
      "customer_id                                                                   \n",
      "11085496            1.0             1.0              1.0                   0  \n",
      "11086588            0.0             1.0              2.0                   0  \n",
      "11091984            0.0             1.0              2.0                   0  \n",
      "11094481            0.0             1.0              2.0                   0  \n",
      "11095384            0.0             1.0              1.0                   0  \n"
     ]
    }
   ],
   "source": [
    "print model_df.head()"
   ]
  },
  {
   "cell_type": "code",
   "execution_count": 10,
   "metadata": {
    "collapsed": false
   },
   "outputs": [
    {
     "data": {
      "text/plain": [
       "array([[<matplotlib.axes._subplots.AxesSubplot object at 0x7f20a3700d50>]], dtype=object)"
      ]
     },
     "execution_count": 10,
     "metadata": {},
     "output_type": "execute_result"
    },
    {
     "data": {
      "image/png": "[encoded data removed]",
      "text/plain": [
       "<matplotlib.figure.Figure at 0x7f20a3700810>"
      ]
     },
     "metadata": {},
     "output_type": "display_data"
    }
   ],
   "source": [
    "model_df.hist(column='future_redemptions', bins=15)"
   ]
  },
  {
   "cell_type": "code",
   "execution_count": 11,
   "metadata": {
    "collapsed": false
   },
   "outputs": [
    {
     "data": {
      "text/html": [
       "<div>\n",
       "<table border=\"1\" class=\"dataframe\">\n",
       "  <thead>\n",
       "    <tr style=\"text-align: right;\">\n",
       "      <th></th>\n",
       "      <th>start_dow</th>\n",
       "      <th>engage</th>\n",
       "      <th>gap</th>\n",
       "      <th>session</th>\n",
       "      <th>verify</th>\n",
       "      <th>time_spent</th>\n",
       "      <th>funded</th>\n",
       "      <th>selffunded</th>\n",
       "      <th>first_activity</th>\n",
       "      <th>streak_activity</th>\n",
       "      <th>future_redemptions</th>\n",
       "    </tr>\n",
       "    <tr>\n",
       "      <th>customer_id</th>\n",
       "      <th></th>\n",
       "      <th></th>\n",
       "      <th></th>\n",
       "      <th></th>\n",
       "      <th></th>\n",
       "      <th></th>\n",
       "      <th></th>\n",
       "      <th></th>\n",
       "      <th></th>\n",
       "      <th></th>\n",
       "      <th></th>\n",
       "    </tr>\n",
       "  </thead>\n",
       "  <tbody>\n",
       "    <tr>\n",
       "      <th>11095374</th>\n",
       "      <td>2</td>\n",
       "      <td>2.0</td>\n",
       "      <td>2.0</td>\n",
       "      <td>7.0</td>\n",
       "      <td>3.0</td>\n",
       "      <td>1100.0</td>\n",
       "      <td>5.0</td>\n",
       "      <td>0.0</td>\n",
       "      <td>1.0</td>\n",
       "      <td>8.0</td>\n",
       "      <td>52</td>\n",
       "    </tr>\n",
       "    <tr>\n",
       "      <th>11118173</th>\n",
       "      <td>4</td>\n",
       "      <td>8.0</td>\n",
       "      <td>0.0</td>\n",
       "      <td>2.0</td>\n",
       "      <td>4.0</td>\n",
       "      <td>1200.0</td>\n",
       "      <td>12.0</td>\n",
       "      <td>0.0</td>\n",
       "      <td>1.0</td>\n",
       "      <td>14.0</td>\n",
       "      <td>66</td>\n",
       "    </tr>\n",
       "    <tr>\n",
       "      <th>11135979</th>\n",
       "      <td>5</td>\n",
       "      <td>3.0</td>\n",
       "      <td>6.0</td>\n",
       "      <td>3.0</td>\n",
       "      <td>2.0</td>\n",
       "      <td>800.0</td>\n",
       "      <td>5.0</td>\n",
       "      <td>0.0</td>\n",
       "      <td>1.0</td>\n",
       "      <td>3.0</td>\n",
       "      <td>73</td>\n",
       "    </tr>\n",
       "    <tr>\n",
       "      <th>11137780</th>\n",
       "      <td>6</td>\n",
       "      <td>2.0</td>\n",
       "      <td>7.0</td>\n",
       "      <td>2.0</td>\n",
       "      <td>3.0</td>\n",
       "      <td>200.0</td>\n",
       "      <td>5.0</td>\n",
       "      <td>0.0</td>\n",
       "      <td>2.0</td>\n",
       "      <td>4.0</td>\n",
       "      <td>93</td>\n",
       "    </tr>\n",
       "    <tr>\n",
       "      <th>11130194</th>\n",
       "      <td>5</td>\n",
       "      <td>4.0</td>\n",
       "      <td>5.0</td>\n",
       "      <td>1.0</td>\n",
       "      <td>4.0</td>\n",
       "      <td>200.0</td>\n",
       "      <td>8.0</td>\n",
       "      <td>0.0</td>\n",
       "      <td>1.0</td>\n",
       "      <td>6.0</td>\n",
       "      <td>56</td>\n",
       "    </tr>\n",
       "    <tr>\n",
       "      <th>11136793</th>\n",
       "      <td>5</td>\n",
       "      <td>1.0</td>\n",
       "      <td>2.0</td>\n",
       "      <td>5.0</td>\n",
       "      <td>6.0</td>\n",
       "      <td>2900.0</td>\n",
       "      <td>7.0</td>\n",
       "      <td>0.0</td>\n",
       "      <td>1.0</td>\n",
       "      <td>8.0</td>\n",
       "      <td>51</td>\n",
       "    </tr>\n",
       "  </tbody>\n",
       "</table>\n",
       "</div>"
      ],
      "text/plain": [
       "             start_dow  engage  gap  session  verify  time_spent  funded  \\\n",
       "customer_id                                                                \n",
       "11095374             2     2.0  2.0      7.0     3.0      1100.0     5.0   \n",
       "11118173             4     8.0  0.0      2.0     4.0      1200.0    12.0   \n",
       "11135979             5     3.0  6.0      3.0     2.0       800.0     5.0   \n",
       "11137780             6     2.0  7.0      2.0     3.0       200.0     5.0   \n",
       "11130194             5     4.0  5.0      1.0     4.0       200.0     8.0   \n",
       "11136793             5     1.0  2.0      5.0     6.0      2900.0     7.0   \n",
       "\n",
       "             selffunded  first_activity  streak_activity  future_redemptions  \n",
       "customer_id                                                                   \n",
       "11095374            0.0             1.0              8.0                  52  \n",
       "11118173            0.0             1.0             14.0                  66  \n",
       "11135979            0.0             1.0              3.0                  73  \n",
       "11137780            0.0             2.0              4.0                  93  \n",
       "11130194            0.0             1.0              6.0                  56  \n",
       "11136793            0.0             1.0              8.0                  51  "
      ]
     },
     "execution_count": 11,
     "metadata": {},
     "output_type": "execute_result"
    }
   ],
   "source": [
    "model_df[model_df['future_redemptions'] > 50]"
   ]
  },
  {
   "cell_type": "code",
   "execution_count": 7,
   "metadata": {
    "collapsed": false
   },
   "outputs": [
    {
     "data": {
      "text/html": [
       "<div>\n",
       "<table border=\"1\" class=\"dataframe\">\n",
       "  <thead>\n",
       "    <tr style=\"text-align: right;\">\n",
       "      <th></th>\n",
       "      <th>customer_id</th>\n",
       "      <th>start_day</th>\n",
       "      <th>day1</th>\n",
       "      <th>day2</th>\n",
       "      <th>day3</th>\n",
       "      <th>day4</th>\n",
       "      <th>day5</th>\n",
       "      <th>day6</th>\n",
       "      <th>day7</th>\n",
       "      <th>day8</th>\n",
       "      <th>day9</th>\n",
       "      <th>day10</th>\n",
       "      <th>day11</th>\n",
       "      <th>day12</th>\n",
       "      <th>day13</th>\n",
       "      <th>day14</th>\n",
       "      <th>future_redemptions</th>\n",
       "    </tr>\n",
       "  </thead>\n",
       "  <tbody>\n",
       "    <tr>\n",
       "      <th>18888</th>\n",
       "      <td>11137780</td>\n",
       "      <td>sunday</td>\n",
       "      <td>gap</td>\n",
       "      <td>engagefunded</td>\n",
       "      <td>session200</td>\n",
       "      <td>gap</td>\n",
       "      <td>session0</td>\n",
       "      <td>gap</td>\n",
       "      <td>gap</td>\n",
       "      <td>gap</td>\n",
       "      <td>gap</td>\n",
       "      <td>engagefunded</td>\n",
       "      <td>verifyfunded</td>\n",
       "      <td>verifyfunded</td>\n",
       "      <td>verifyfunded</td>\n",
       "      <td>gap</td>\n",
       "      <td>93</td>\n",
       "    </tr>\n",
       "  </tbody>\n",
       "</table>\n",
       "</div>"
      ],
      "text/plain": [
       "       customer_id start_day day1          day2        day3 day4      day5  \\\n",
       "18888     11137780    sunday  gap  engagefunded  session200  gap  session0   \n",
       "\n",
       "      day6 day7 day8 day9         day10         day11         day12  \\\n",
       "18888  gap  gap  gap  gap  engagefunded  verifyfunded  verifyfunded   \n",
       "\n",
       "              day13 day14  future_redemptions  \n",
       "18888  verifyfunded   gap                  93  "
      ]
     },
     "execution_count": 7,
     "metadata": {},
     "output_type": "execute_result"
    }
   ],
   "source": [
    "model_df.scatter"
   ]
  },
  {
   "cell_type": "code",
   "execution_count": null,
   "metadata": {
    "collapsed": true
   },
   "outputs": [],
   "source": [
    "pd.hist"
   ]
  }
 ],
 "metadata": {
  "anaconda-cloud": {},
  "kernelspec": {
   "display_name": "Python [Root]",
   "language": "python",
   "name": "Python [Root]"
  },
  "language_info": {
   "codemirror_mode": {
    "name": "ipython",
    "version": 2
   },
   "file_extension": ".py",
   "mimetype": "text/x-python",
   "name": "python",
   "nbconvert_exporter": "python",
   "pygments_lexer": "ipython2",
   "version": "2.7.12"
  }
 },
 "nbformat": 4,
 "nbformat_minor": 1
}
